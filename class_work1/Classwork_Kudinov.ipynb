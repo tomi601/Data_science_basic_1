{
  "nbformat": 4,
  "nbformat_minor": 0,
  "metadata": {
    "colab": {
      "name": "Classwork_Kudinov.ipynb",
      "provenance": [],
      "collapsed_sections": []
    },
    "kernelspec": {
      "name": "python3",
      "display_name": "Python 3"
    },
    "language_info": {
      "name": "python"
    }
  },
  "cells": [
    {
      "cell_type": "code",
      "metadata": {
        "colab": {
          "base_uri": "https://localhost:8080/"
        },
        "id": "E2ff02eurUqh",
        "outputId": "b1a4b78a-751c-44a3-bb02-6c34a07d0ee2"
      },
      "source": [
        "name = ['a', 'b', 'c', 'd', 16]\n",
        "print(name[1:3])"
      ],
      "execution_count": null,
      "outputs": [
        {
          "output_type": "stream",
          "name": "stdout",
          "text": [
            "['b', 'c']\n"
          ]
        }
      ]
    },
    {
      "cell_type": "code",
      "metadata": {
        "colab": {
          "base_uri": "https://localhost:8080/"
        },
        "id": "O2R1Vbxr1bZy",
        "outputId": "2a952599-2845-4e91-b744-3869bb1b90d5"
      },
      "source": [
        "name.append('10П')\n",
        "print(name)"
      ],
      "execution_count": null,
      "outputs": [
        {
          "output_type": "stream",
          "name": "stdout",
          "text": [
            "['a', 'b', 'c', 'd', 16, '10П']\n"
          ]
        }
      ]
    },
    {
      "cell_type": "code",
      "metadata": {
        "colab": {
          "base_uri": "https://localhost:8080/"
        },
        "id": "ZXCroFr53UJs",
        "outputId": "dafdb1ca-adc3-411d-81d5-61852262e505"
      },
      "source": [
        "surname = 'Kudinov'\n",
        "list(surname)\n",
        "name.append(surname)\n",
        "print(name)"
      ],
      "execution_count": null,
      "outputs": [
        {
          "output_type": "stream",
          "name": "stdout",
          "text": [
            "['a', 'b', 'c', 'd', 16, '10П', 'Kudinov', 'Kudinov']\n"
          ]
        }
      ]
    }
  ]
}